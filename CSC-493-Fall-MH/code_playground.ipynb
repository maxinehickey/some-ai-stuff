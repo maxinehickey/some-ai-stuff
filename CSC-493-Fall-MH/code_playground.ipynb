{
 "cells": [
  {
   "cell_type": "markdown",
   "metadata": {},
   "source": [
    "## This notebook serves a testing labs for the final implemented code in the .py scripts."
   ]
  },
  {
   "cell_type": "code",
   "execution_count": null,
   "metadata": {},
   "outputs": [],
   "source": [
    "# !pip install sentence_transformers\n",
    "# !pip install transformers"
   ]
  },
  {
   "cell_type": "code",
   "execution_count": 1,
   "metadata": {},
   "outputs": [
    {
     "data": {
      "application/vnd.jupyter.widget-view+json": {
       "model_id": "e0543c2f84914b8cb69cb0656d147d30",
       "version_major": 2,
       "version_minor": 0
      },
      "text/plain": [
       "config.json:   0%|          | 0.00/569 [00:00<?, ?B/s]"
      ]
     },
     "metadata": {},
     "output_type": "display_data"
    },
    {
     "data": {
      "application/vnd.jupyter.widget-view+json": {
       "model_id": "b2c1cf4bb8a246e79043c3a8398e98c5",
       "version_major": 2,
       "version_minor": 0
      },
      "text/plain": [
       "model.safetensors:   0%|          | 0.00/375M [00:00<?, ?B/s]"
      ]
     },
     "metadata": {},
     "output_type": "display_data"
    },
    {
     "data": {
      "application/vnd.jupyter.widget-view+json": {
       "model_id": "33082e6a05f34c368bc6a63d1c578465",
       "version_major": 2,
       "version_minor": 0
      },
      "text/plain": [
       "tokenizer_config.json:   0%|          | 0.00/396 [00:00<?, ?B/s]"
      ]
     },
     "metadata": {},
     "output_type": "display_data"
    },
    {
     "data": {
      "application/vnd.jupyter.widget-view+json": {
       "model_id": "09b526d73675490e969e7c2f78c54319",
       "version_major": 2,
       "version_minor": 0
      },
      "text/plain": [
       "tokenizer.json:   0%|          | 0.00/2.11M [00:00<?, ?B/s]"
      ]
     },
     "metadata": {},
     "output_type": "display_data"
    },
    {
     "data": {
      "application/vnd.jupyter.widget-view+json": {
       "model_id": "905430843ece44e7961a445fafd5cb6a",
       "version_major": 2,
       "version_minor": 0
      },
      "text/plain": [
       "special_tokens_map.json:   0%|          | 0.00/99.0 [00:00<?, ?B/s]"
      ]
     },
     "metadata": {},
     "output_type": "display_data"
    }
   ],
   "source": [
    "from sentence_transformers import SentenceTransformer\n",
    "from transformers import pipeline\n",
    "\n",
    "llm_name = \"EleutherAI/pythia-160m-deduped\" # main language model\n",
    "sam_name = \"cardiffnlp/twitter-roberta-base-sentiment-latest\"  # model for measuring sentiment\n",
    "ep_name = \"cardiffnlp/twitter-roberta-base-emoji\"  # model for emoji prediction\n",
    "\n",
    "generator = pipeline('text-generation',\n",
    "                     model=llm_name)\n",
    "\n",
    "sentiment_analysis = pipeline(\"sentiment-analysis\",\n",
    "                              model=ep_name) # for measuring sentiment"
   ]
  },
  {
   "cell_type": "code",
   "execution_count": 2,
   "metadata": {},
   "outputs": [],
   "source": [
    "prompt = \"happy\"\n",
    "\n",
    "batch_size = 2\n",
    "max_tokens = 128\n",
    "temp = 2.0"
   ]
  },
  {
   "cell_type": "code",
   "execution_count": 3,
   "metadata": {},
   "outputs": [],
   "source": [
    "def generate_response(prompt):\n",
    "    master_prompt = \"Q: tired. A: I'm so exhausted. I feel like I carry a huge weight on my shoulders. Q: happy. A: I am filled to the brim with jubilation right now! I feel like I'm on the moon! Q: I'm annoyed. A: Ugh, this is really ticking me off! Q: {p}. A:\".format(p=prompt)\n",
    "    generator.tokenizer.pad_token_id = generator.model.config.eos_token_id\n",
    "\n",
    "    output = generator(master_prompt,\n",
    "            batch_size = 64,\n",
    "            do_sample = True,\n",
    "            max_length = 128,\n",
    "            temperature = 2.0,\n",
    "            return_full_text = True)\n",
    "\n",
    "    output = [x[\"generated_text\"] for x in output]\n",
    "    output = output[0].split(\"\\n\")\n",
    "\n",
    "    answer = output[0].find(\"Q: {p}. A:\".format(p=prompt))\n",
    "    \n",
    "\n",
    "    return output[0][answer + len(\"Q: {p}. A:\".format(p=prompt)):]"
   ]
  },
  {
   "cell_type": "code",
   "execution_count": 6,
   "metadata": {},
   "outputs": [
    {
     "name": "stderr",
     "output_type": "stream",
     "text": [
      "Setting `pad_token_id` to `eos_token_id`:0 for open-end generation.\n"
     ]
    },
    {
     "data": {
      "text/plain": [
       "\" Hitting every note on your phone at the same time every evening can suck, so you better get those at the night's best. B: Sitting through lunch tonight made my bed last thing night. C: My car fell! P:\""
      ]
     },
     "execution_count": 6,
     "metadata": {},
     "output_type": "execute_result"
    }
   ],
   "source": [
    "generate_response(prompt=\"I feel great\")"
   ]
  },
  {
   "cell_type": "code",
   "execution_count": 9,
   "metadata": {},
   "outputs": [],
   "source": [
    "def generate_next_word(word):\n",
    "    generator.tokenizer.pad_token_id = generator.model.config.eos_token_id\n",
    "\n",
    "    output = generator([word]*5,\n",
    "            batch_size = 64,\n",
    "            do_sample = True,\n",
    "            max_length = 5,\n",
    "            temperature = 3.0,\n",
    "            return_full_text = True)\n",
    "\n",
    "    output = [x[0][\"generated_text\"] for x in output]\n",
    " \n",
    "    return [output[i].split()[-1] for i in range(len(output)) ]"
   ]
  },
  {
   "cell_type": "code",
   "execution_count": 14,
   "metadata": {},
   "outputs": [
    {
     "name": "stderr",
     "output_type": "stream",
     "text": [
      "Setting `pad_token_id` to `eos_token_id`:0 for open-end generation.\n"
     ]
    },
    {
     "data": {
      "text/plain": [
       "['exact', 'on', 'few', 'or', 'the']"
      ]
     },
     "execution_count": 14,
     "metadata": {},
     "output_type": "execute_result"
    }
   ],
   "source": [
    "generate_next_word(\"we\")"
   ]
  },
  {
   "cell_type": "code",
   "execution_count": 15,
   "metadata": {},
   "outputs": [
    {
     "name": "stderr",
     "output_type": "stream",
     "text": [
      "Setting `pad_token_id` to `eos_token_id`:0 for open-end generation.\n",
      "/Users/jeffreywilliams/anaconda3/lib/python3.10/site-packages/transformers/generation/utils.py:1362: UserWarning: Input length of input_ids is 15, but `max_length` is set to 5. This can lead to unexpected behavior. You should consider increasing `max_new_tokens`.\n",
      "  warnings.warn(\n"
     ]
    },
    {
     "data": {
      "text/plain": [
       "['may', 'can', 'know', \"I'll\", 'couldn']"
      ]
     },
     "execution_count": 15,
     "metadata": {},
     "output_type": "execute_result"
    }
   ],
   "source": [
    "next_word = \"I\"\n",
    "prompt = \"Without using contractions, guess a word that might come after this one: \" + next_word\n",
    "\n",
    "sentence_list = generate_next_word(prompt)\n",
    "sentence_list"
   ]
  },
  {
   "cell_type": "code",
   "execution_count": null,
   "metadata": {},
   "outputs": [],
   "source": [
    "def get_tts(text_prompt):\n",
    "    audio_array = generate_audio(text_prompt)\n",
    "    return audio_array"
   ]
  },
  {
   "cell_type": "code",
   "execution_count": null,
   "metadata": {},
   "outputs": [],
   "source": [
    "output = generate_response(prompt)"
   ]
  },
  {
   "cell_type": "code",
   "execution_count": null,
   "metadata": {},
   "outputs": [],
   "source": [
    "output"
   ]
  },
  {
   "cell_type": "code",
   "execution_count": null,
   "metadata": {},
   "outputs": [],
   "source": [
    "from bark import SAMPLE_RATE, generate_audio, preload_models\n",
    "from scipy.io.wavfile import write\n",
    "output_tts = get_tts(output)"
   ]
  },
  {
   "cell_type": "code",
   "execution_count": null,
   "metadata": {},
   "outputs": [],
   "source": [
    "save_audio(output_tts)"
   ]
  }
 ],
 "metadata": {
  "kernelspec": {
   "display_name": "base",
   "language": "python",
   "name": "python3"
  },
  "language_info": {
   "codemirror_mode": {
    "name": "ipython",
    "version": 3
   },
   "file_extension": ".py",
   "mimetype": "text/x-python",
   "name": "python",
   "nbconvert_exporter": "python",
   "pygments_lexer": "ipython3",
   "version": "3.10.9"
  }
 },
 "nbformat": 4,
 "nbformat_minor": 2
}
